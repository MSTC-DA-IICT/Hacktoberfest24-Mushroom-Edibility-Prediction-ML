{
 "nbformat": 4,
 "nbformat_minor": 0,
 "metadata": {
  "colab": {
   "provenance": []
  },
  "kernelspec": {
   "name": "python3",
   "language": "python",
   "display_name": "Python 3 (ipykernel)"
  },
  "language_info": {
   "name": "python"
  }
 },
 "cells": [
  {
   "cell_type": "markdown",
   "source": [
    "# Data Preprocessing\n",
    "Data preprocessing is a critical step in machine learning that often determines the success of a model. We are seeking to enhance our data preprocessing in our machine learning project.\n",
    "\n",
    "## Objective\n",
    "Give the numerical representation of the categorical data such that it can be used for classification of whether a mushroom is 'poisonous' or 'edible'.\n",
    "\n",
    "## Tasks\n",
    "- Improve the data preprocessing workflow.\n",
    "- Data Cleaning & Transformation.\n",
    "- Feature Engineering.\n",
    "- Encoding of categorical data, and also provide reason behind the use of any particular encoding technique."
   ],
   "metadata": {
    "id": "5exX5BuIDQK5"
   }
  },
  {
   "cell_type": "code",
   "outputs": [],
   "source": [
    "import pandas as pd\n",
    "import numpy as np\n",
    "import matplotlib.pyplot as plt"
   ],
   "metadata": {
    "collapsed": false,
    "ExecuteTime": {
     "end_time": "2024-10-01T19:40:37.590072Z",
     "start_time": "2024-10-01T19:40:37.581994Z"
    }
   },
   "execution_count": 17
  },
  {
   "cell_type": "code",
   "outputs": [
    {
     "name": "stdout",
     "output_type": "stream",
     "text": [
      "   Unnamed: 0 cap-shape cap-surface cap-color  bruises     odor  \\\n",
      "0           0    convex      smooth     brown  bruises  pungent   \n",
      "1           1    convex      smooth    yellow  bruises   almond   \n",
      "2           2      bell      smooth     white  bruises    anise   \n",
      "3           3    convex       scaly     white  bruises  pungent   \n",
      "4           4    convex      smooth      gray       no     none   \n",
      "\n",
      "  gill-attachment gill-spacing gill-size gill-color  ...  \\\n",
      "0            free        close    narrow      black  ...   \n",
      "1            free        close     broad      black  ...   \n",
      "2            free        close     broad      brown  ...   \n",
      "3            free        close    narrow      brown  ...   \n",
      "4            free      crowded     broad      black  ...   \n",
      "\n",
      "  stalk-color-above-ring stalk-color-below-ring veil-type veil-color  \\\n",
      "0                  white                  white   partial      white   \n",
      "1                  white                  white   partial      white   \n",
      "2                  white                  white   partial      white   \n",
      "3                  white                  white   partial      white   \n",
      "4                  white                  white   partial      white   \n",
      "\n",
      "  ring-number   ring-type spore-print-color population  habitat poisonous  \n",
      "0         one     pendant             black  scattered    urban         p  \n",
      "1         one     pendant             brown   numerous  grasses         e  \n",
      "2         one     pendant             brown   numerous  meadows         e  \n",
      "3         one     pendant             black  scattered    urban         p  \n",
      "4         one  evanescent             brown   abundant  grasses         e  \n",
      "\n",
      "[5 rows x 24 columns]\n"
     ]
    }
   ],
   "source": [
    "df = pd.read_csv('mushroom.csv')\n",
    "\n",
    "print(df.head())"
   ],
   "metadata": {
    "collapsed": false,
    "ExecuteTime": {
     "end_time": "2024-10-01T19:40:37.966476Z",
     "start_time": "2024-10-01T19:40:37.913697Z"
    }
   },
   "execution_count": 18
  },
  {
   "cell_type": "code",
   "outputs": [
    {
     "name": "stdout",
     "output_type": "stream",
     "text": [
      "Unnamed: 0                     0\n",
      "cap-shape                      0\n",
      "cap-surface                    0\n",
      "cap-color                      0\n",
      "bruises                        0\n",
      "odor                           0\n",
      "gill-attachment                0\n",
      "gill-spacing                   0\n",
      "gill-size                      0\n",
      "gill-color                     0\n",
      "stalk-shape                    0\n",
      "stalk-root                  2480\n",
      "stalk-surface-above-ring       0\n",
      "stalk-surface-below-ring       0\n",
      "stalk-color-above-ring         0\n",
      "stalk-color-below-ring         0\n",
      "veil-type                      0\n",
      "veil-color                     0\n",
      "ring-number                    0\n",
      "ring-type                      0\n",
      "spore-print-color              0\n",
      "population                     0\n",
      "habitat                        0\n",
      "poisonous                      0\n",
      "dtype: int64\n"
     ]
    }
   ],
   "source": [
    "# Checking whether there are any missing values\n",
    "print(df.isnull().sum())"
   ],
   "metadata": {
    "collapsed": false,
    "ExecuteTime": {
     "end_time": "2024-10-01T19:40:38.482678Z",
     "start_time": "2024-10-01T19:40:38.468228Z"
    }
   },
   "execution_count": 19
  },
  {
   "cell_type": "code",
   "outputs": [
    {
     "name": "stdout",
     "output_type": "stream",
     "text": [
      "0\n"
     ]
    }
   ],
   "source": [
    "# Imputing null values in stalk-root with the most frequent value (mode)\n",
    "most_frequent = df['stalk-root'].mode()[0]\n",
    "\n",
    "# Filling the missing values with the most frequent\n",
    "df['stalk-root'].fillna(most_frequent, inplace=True)\n",
    "\n",
    "# Verify that the missing values are filled\n",
    "print(df['stalk-root'].isnull().sum())"
   ],
   "metadata": {
    "collapsed": false,
    "ExecuteTime": {
     "end_time": "2024-10-01T19:40:38.989Z",
     "start_time": "2024-10-01T19:40:38.979948Z"
    }
   },
   "execution_count": 20
  },
  {
   "cell_type": "code",
   "outputs": [
    {
     "name": "stdout",
     "output_type": "stream",
     "text": [
      "Unnamed: 0                  0\n",
      "cap-shape                   0\n",
      "cap-surface                 0\n",
      "cap-color                   0\n",
      "bruises                     0\n",
      "odor                        0\n",
      "gill-attachment             0\n",
      "gill-spacing                0\n",
      "gill-size                   0\n",
      "gill-color                  0\n",
      "stalk-shape                 0\n",
      "stalk-root                  0\n",
      "stalk-surface-above-ring    0\n",
      "stalk-surface-below-ring    0\n",
      "stalk-color-above-ring      0\n",
      "stalk-color-below-ring      0\n",
      "veil-type                   0\n",
      "veil-color                  0\n",
      "ring-number                 0\n",
      "ring-type                   0\n",
      "spore-print-color           0\n",
      "population                  0\n",
      "habitat                     0\n",
      "poisonous                   0\n",
      "dtype: int64\n"
     ]
    }
   ],
   "source": [
    "# Confirming the missing entires once again\n",
    "print(df.isnull().sum())"
   ],
   "metadata": {
    "collapsed": false,
    "ExecuteTime": {
     "end_time": "2024-10-01T19:40:39.445900Z",
     "start_time": "2024-10-01T19:40:39.432313Z"
    }
   },
   "execution_count": 21
  },
  {
   "cell_type": "code",
   "outputs": [],
   "source": [
    "# Combining cap features, stalk features, gill features, veil features and ring features\n",
    "\n",
    "df['cap_combined'] = df['cap-shape'] + '_' + df['cap-color'] + '_' + df['cap-surface']\n",
    "df = df.drop(['cap-shape', 'cap-color', 'cap-surface'], axis=1)\n",
    "\n",
    "df['gill_combined'] = df['gill-attachment'] + '_' + df['gill-spacing'] + '_' + df['gill-size'] + '_' + df['gill-color']\n",
    "df = df.drop(['gill-attachment', 'gill-spacing', 'gill-size', 'gill-color'], axis=1)\n",
    "\n",
    "df['stalk_combined'] = df['stalk-color-above-ring'] + '_' + df['stalk-color-below-ring'] + '_' + df['stalk-root'] + '_' + df['stalk-shape'] + '_' + df['stalk-surface-above-ring'] + '_' + df['stalk-surface-below-ring']\n",
    "df = df.drop(['stalk-surface-above-ring', 'stalk-surface-below-ring', 'stalk-color-below-ring', 'stalk-color-above-ring', 'stalk-shape', 'stalk-root'], axis=1)\n",
    "\n",
    "df['veil_combined'] = df['veil-color'] + '_' + df['veil-type']\n",
    "df = df.drop(['veil-color', 'veil-type'], axis=1)\n",
    "\n",
    "df['ring_combined'] = df['ring-number'] + '_' + df['ring-type']\n",
    "df = df.drop(['ring-number', 'ring-type'], axis=1)"
   ],
   "metadata": {
    "collapsed": false,
    "ExecuteTime": {
     "end_time": "2024-10-01T19:40:40.061367Z",
     "start_time": "2024-10-01T19:40:40.018597Z"
    }
   },
   "execution_count": 22
  },
  {
   "cell_type": "code",
   "outputs": [
    {
     "name": "stdout",
     "output_type": "stream",
     "text": [
      "   Unnamed: 0  bruises     odor spore-print-color population  habitat  \\\n",
      "0           0  bruises  pungent             black  scattered    urban   \n",
      "1           1  bruises   almond             brown   numerous  grasses   \n",
      "2           2  bruises    anise             brown   numerous  meadows   \n",
      "3           3  bruises  pungent             black  scattered    urban   \n",
      "4           4       no     none             brown   abundant  grasses   \n",
      "\n",
      "  poisonous          cap_combined             gill_combined  \\\n",
      "0         p   convex_brown_smooth   free_close_narrow_black   \n",
      "1         e  convex_yellow_smooth    free_close_broad_black   \n",
      "2         e     bell_white_smooth    free_close_broad_brown   \n",
      "3         p    convex_white_scaly   free_close_narrow_brown   \n",
      "4         e    convex_gray_smooth  free_crowded_broad_black   \n",
      "\n",
      "                              stalk_combined  veil_combined   ring_combined  \n",
      "0  white_white_equal_enlarging_smooth_smooth  white_partial     one_pendant  \n",
      "1   white_white_club_enlarging_smooth_smooth  white_partial     one_pendant  \n",
      "2   white_white_club_enlarging_smooth_smooth  white_partial     one_pendant  \n",
      "3  white_white_equal_enlarging_smooth_smooth  white_partial     one_pendant  \n",
      "4   white_white_equal_tapering_smooth_smooth  white_partial  one_evanescent  \n"
     ]
    }
   ],
   "source": [
    "print(df.head())"
   ],
   "metadata": {
    "collapsed": false,
    "ExecuteTime": {
     "end_time": "2024-10-01T19:40:40.674952Z",
     "start_time": "2024-10-01T19:40:40.663865Z"
    }
   },
   "execution_count": 23
  },
  {
   "cell_type": "code",
   "outputs": [],
   "source": [
    "# Encoding\n",
    "# Bruises: Label encoding no to 0 and bruises to 1\n",
    "df['bruises'] = df['bruises'].map({'no': 0, 'bruises': 1})\n",
    "# Odor: No inherent order, so one-hot encoding\n",
    "df = pd.get_dummies(df, columns=['odor'])\n",
    "# Spore Print Color: No order, so one-hot encoding\n",
    "df = pd.get_dummies(df, columns=['spore-print-color'])\n",
    "# Population, Habitat, and combined categories: similarly, we can use one-hot encoding as no inherent order of the categorical data\n",
    "df = pd.get_dummies(df, columns=['population', 'habitat', 'cap_combined', 'gill_combined', 'stalk_combined', 'veil_combined', 'ring_combined'])"
   ],
   "metadata": {
    "collapsed": false,
    "ExecuteTime": {
     "end_time": "2024-10-01T19:40:42.549743Z",
     "start_time": "2024-10-01T19:40:42.500914Z"
    }
   },
   "execution_count": 24
  },
  {
   "cell_type": "code",
   "outputs": [
    {
     "name": "stdout",
     "output_type": "stream",
     "text": [
      "   Unnamed: 0  bruises  odor_almond  odor_anise  odor_creosote  odor_fishy  \\\n",
      "0           0        1        False       False          False       False   \n",
      "1           1        1         True       False          False       False   \n",
      "2           2        1        False        True          False       False   \n",
      "3           3        1        False       False          False       False   \n",
      "4           4        0        False       False          False       False   \n",
      "\n",
      "   odor_foul  odor_musty  odor_none  odor_pungent  ...  \\\n",
      "0      False       False      False          True  ...   \n",
      "1      False       False      False         False  ...   \n",
      "2      False       False      False         False  ...   \n",
      "3      False       False      False          True  ...   \n",
      "4      False       False       True         False  ...   \n",
      "\n",
      "   veil_combined_white_partial  veil_combined_yellow_partial  \\\n",
      "0                         True                         False   \n",
      "1                         True                         False   \n",
      "2                         True                         False   \n",
      "3                         True                         False   \n",
      "4                         True                         False   \n",
      "\n",
      "   ring_combined_none_none  ring_combined_one_evanescent  \\\n",
      "0                    False                         False   \n",
      "1                    False                         False   \n",
      "2                    False                         False   \n",
      "3                    False                         False   \n",
      "4                    False                          True   \n",
      "\n",
      "   ring_combined_one_flaring  ring_combined_one_large  \\\n",
      "0                      False                    False   \n",
      "1                      False                    False   \n",
      "2                      False                    False   \n",
      "3                      False                    False   \n",
      "4                      False                    False   \n",
      "\n",
      "   ring_combined_one_pendant  ring_combined_two_evanescent  \\\n",
      "0                       True                         False   \n",
      "1                       True                         False   \n",
      "2                       True                         False   \n",
      "3                       True                         False   \n",
      "4                      False                         False   \n",
      "\n",
      "   ring_combined_two_pendant  poisonous  \n",
      "0                      False          1  \n",
      "1                      False          0  \n",
      "2                      False          0  \n",
      "3                      False          1  \n",
      "4                      False          0  \n",
      "\n",
      "[5 rows x 227 columns]\n"
     ]
    }
   ],
   "source": [
    "# Label encoding the target column\n",
    "df['poisonous'] = df['poisonous'].map({'e': 0, 'p': 1})\n",
    "\n",
    "# Moving target column to the end\n",
    "target_column = df.pop('poisonous')\n",
    "df['poisonous'] = target_column\n",
    "\n",
    "print(df.head())"
   ],
   "metadata": {
    "collapsed": false,
    "ExecuteTime": {
     "end_time": "2024-10-01T19:45:11.889437Z",
     "start_time": "2024-10-01T19:45:11.871209Z"
    }
   },
   "execution_count": 25
  },
  {
   "cell_type": "code",
   "outputs": [],
   "source": [
    "# Converting dummy variables to integers\n",
    "df = df.astype(int)\n",
    "\n",
    "# Converting it into csv\n",
    "df.to_csv('mushroom_preprocessed.csv', index=False)"
   ],
   "metadata": {
    "collapsed": false,
    "ExecuteTime": {
     "end_time": "2024-10-01T19:52:00.143527Z",
     "start_time": "2024-10-01T19:51:59.854710Z"
    }
   },
   "execution_count": 27
  },
  {
   "cell_type": "code",
   "outputs": [],
   "source": [],
   "metadata": {
    "collapsed": false
   }
  }
 ]
}
