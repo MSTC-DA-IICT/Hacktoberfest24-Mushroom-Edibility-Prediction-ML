{
 "cells": [
  {
   "cell_type": "markdown",
   "metadata": {},
   "source": [
    "# Image Classification\n",
    "\n",
    "Implement a model that can categorize images into specific art types, sorting them into predefined categories using deep learning classification techniques.\n",
    "\n",
    "## Objective\n",
    "Create and train a deep learning model that accurately classifies images into the following categories:\n",
    "- **Drawings and Watercolours**\n",
    "- **Works of Painting**\n",
    "- **Sculpture**\n",
    "- **Graphic Art**\n",
    "- **Iconography (old Russian art)**\n",
    "\n",
    "## Tasks\n",
    "- **Data Cleaning & Transformation**: Preprocess the provided dataset to ensure consistent image quality and format.\n",
    "- **Feature Extraction and Engineering**: Use techniques to highlight visual differences across categories, facilitating better classification.\n",
    "- **Model Training and Optimization**: Design and train a deep learning classification model (e.g., CNN), optimizing hyperparameters for accuracy and efficiency.\n",
    "- **Evaluation and Validation**: Assess model performance with appropriate metrics (e.g., accuracy, precision, recall) and validate on a test set.\n",
    "\n",
    "## Link to the Dataset\n",
    "https://drive.google.com/file/d/1yqLUYqU8_elMhrk1Ebe6p-RdHgmixuta/view?usp=sharing"
   ]
  }
 ],
 "metadata": {
  "language_info": {
   "name": "python"
  }
 },
 "nbformat": 4,
 "nbformat_minor": 2
}
